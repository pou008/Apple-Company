{
  "cells": [
    {
      "attachments": {},
      "cell_type": "markdown",
      "metadata": {
        "id": "dbd55073"
      },
      "source": [
        "<h1 align=center style=\"line-height:200%;font-family:vazir;color:#0099cc\">\n",
        "<font face=\"vazir\" color=\"#0099cc\">\n",
        "اکتشاف\n",
        "</font>\n",
        "</h1>\n",
        "\n",
        "\n",
        "<p dir=rtl style=\"direction: rtl;text-align: justify;line-height:200%;font-family:vazir;font-size:medium\">\n",
        "<font face=\"vazir\" size=3>\n",
        "در این گام از پروژه به تحلیل بیشتر بر روی سفارش‌ها پرداخته و با پاسخ به چند پرسش و رسم چند نمودار، دید بهتری از اطلاعات مالی شرکت به دست خواهید آورد.\n",
        "</font>\n",
        "</p>"
      ]
    },
    {
      "attachments": {},
      "cell_type": "markdown",
      "metadata": {},
      "source": [
        "   \n",
        "<h2 align=right style=\"line-height:200%;font-family:vazir;color:#0099cc\">\n",
        "<font face=\"vazir\" color=\"#0099cc\">\n",
        "کتابخانه‌ها\n",
        "</font>\n",
        "</h2>\n",
        "\n",
        "<p dir=rtl style=\"direction: rtl;text-align: justify;line-height:200%;font-family:vazir;font-size:medium\">\n",
        "<font face=\"vazir\" size=3>\n",
        "       ابتدا کتابخانه‌های مورد نیاز خود را فرا بخوانید.\n",
        "</font>\n",
        "</p>"
      ]
    },
    {
      "cell_type": "code",
      "execution_count": 2,
      "metadata": {
        "id": "4a1c31c4"
      },
      "outputs": [],
      "source": [
        "import pandas as pd\n",
        "import numpy as np\n",
        "import matplotlib.pyplot as plt"
      ]
    },
    {
      "attachments": {},
      "cell_type": "markdown",
      "metadata": {
        "id": "76c16791"
      },
      "source": [
        "\n",
        "<h2 align=right style=\"line-height:200%;font-family:vazir;color:#0099cc\">\n",
        "<font face=\"vazir\" color=\"#0099cc\">\n",
        "    خواندن مجموعه‌داده\n",
        "</font>\n",
        "</h2>\n",
        "\n",
        "<p dir=rtl style=\"direction: rtl;text-align: justify;line-height:200%;font-family:vazir;font-size:medium\">\n",
        "<font face=\"vazir\" size=3>\n",
        "    حال داده‌های پیش‌پردازش‌شده را که در گام قبل پروژه در فایل <code>preprocessed_sales.csv</code> ذخیره کردید به شکل یک دیتافریم بخوانید.\n",
        "</font>\n",
        "</p>"
      ]
    },
    {
      "cell_type": "code",
      "execution_count": 3,
      "metadata": {
        "colab": {
          "base_uri": "https://localhost:8080/",
          "height": 434
        },
        "id": "b0ad0cab",
        "outputId": "ed789465-43da-484a-bc18-fcd536a6f65d"
      },
      "outputs": [
        {
          "data": {
            "text/html": [
              "<div>\n",
              "<style scoped>\n",
              "    .dataframe tbody tr th:only-of-type {\n",
              "        vertical-align: middle;\n",
              "    }\n",
              "\n",
              "    .dataframe tbody tr th {\n",
              "        vertical-align: top;\n",
              "    }\n",
              "\n",
              "    .dataframe thead th {\n",
              "        text-align: right;\n",
              "    }\n",
              "</style>\n",
              "<table border=\"1\" class=\"dataframe\">\n",
              "  <thead>\n",
              "    <tr style=\"text-align: right;\">\n",
              "      <th></th>\n",
              "      <th>InvoiceNumber</th>\n",
              "      <th>ProductCode</th>\n",
              "      <th>ProductName</th>\n",
              "      <th>Quantity</th>\n",
              "      <th>InvoiceDate</th>\n",
              "      <th>UnitPrice</th>\n",
              "      <th>CustomerId</th>\n",
              "      <th>Country</th>\n",
              "    </tr>\n",
              "  </thead>\n",
              "  <tbody>\n",
              "    <tr>\n",
              "      <th>0</th>\n",
              "      <td>489434</td>\n",
              "      <td>85048</td>\n",
              "      <td>15CM CHRISTMAS GLASS BALL 20 LIGHTS</td>\n",
              "      <td>12</td>\n",
              "      <td>2009-12-01 07:45:00</td>\n",
              "      <td>6.95</td>\n",
              "      <td>13085.0</td>\n",
              "      <td>United Kingdom</td>\n",
              "    </tr>\n",
              "    <tr>\n",
              "      <th>1</th>\n",
              "      <td>489434</td>\n",
              "      <td>79323P</td>\n",
              "      <td>PINK CHERRY LIGHTS</td>\n",
              "      <td>12</td>\n",
              "      <td>2009-12-01 07:45:00</td>\n",
              "      <td>6.75</td>\n",
              "      <td>13085.0</td>\n",
              "      <td>United Kingdom</td>\n",
              "    </tr>\n",
              "    <tr>\n",
              "      <th>2</th>\n",
              "      <td>489434</td>\n",
              "      <td>79323W</td>\n",
              "      <td>WHITE CHERRY LIGHTS</td>\n",
              "      <td>12</td>\n",
              "      <td>2009-12-01 07:45:00</td>\n",
              "      <td>6.75</td>\n",
              "      <td>13085.0</td>\n",
              "      <td>United Kingdom</td>\n",
              "    </tr>\n",
              "    <tr>\n",
              "      <th>3</th>\n",
              "      <td>489434</td>\n",
              "      <td>22041</td>\n",
              "      <td>RECORD FRAME 7\" SINGLE SIZE</td>\n",
              "      <td>48</td>\n",
              "      <td>2009-12-01 07:45:00</td>\n",
              "      <td>2.10</td>\n",
              "      <td>13085.0</td>\n",
              "      <td>United Kingdom</td>\n",
              "    </tr>\n",
              "    <tr>\n",
              "      <th>4</th>\n",
              "      <td>489434</td>\n",
              "      <td>21232</td>\n",
              "      <td>STRAWBERRY CERAMIC TRINKET BOX</td>\n",
              "      <td>24</td>\n",
              "      <td>2009-12-01 07:45:00</td>\n",
              "      <td>1.25</td>\n",
              "      <td>13085.0</td>\n",
              "      <td>United Kingdom</td>\n",
              "    </tr>\n",
              "  </tbody>\n",
              "</table>\n",
              "</div>"
            ],
            "text/plain": [
              "   InvoiceNumber ProductCode                          ProductName  Quantity  \\\n",
              "0         489434       85048  15CM CHRISTMAS GLASS BALL 20 LIGHTS        12   \n",
              "1         489434      79323P                   PINK CHERRY LIGHTS        12   \n",
              "2         489434      79323W                  WHITE CHERRY LIGHTS        12   \n",
              "3         489434       22041         RECORD FRAME 7\" SINGLE SIZE         48   \n",
              "4         489434       21232       STRAWBERRY CERAMIC TRINKET BOX        24   \n",
              "\n",
              "           InvoiceDate  UnitPrice  CustomerId         Country  \n",
              "0  2009-12-01 07:45:00       6.95     13085.0  United Kingdom  \n",
              "1  2009-12-01 07:45:00       6.75     13085.0  United Kingdom  \n",
              "2  2009-12-01 07:45:00       6.75     13085.0  United Kingdom  \n",
              "3  2009-12-01 07:45:00       2.10     13085.0  United Kingdom  \n",
              "4  2009-12-01 07:45:00       1.25     13085.0  United Kingdom  "
            ]
          },
          "execution_count": 3,
          "metadata": {},
          "output_type": "execute_result"
        }
      ],
      "source": [
        "df = pd.read_csv(\"preprocessed_sales.csv\")\n",
        "df.head()"
      ]
    },
    {
      "attachments": {},
      "cell_type": "markdown",
      "metadata": {
        "id": "8d09f90e"
      },
      "source": [
        "<h2 align=right style=\"line-height:200%;font-family:vazir;color:#0099cc\">\n",
        "<font face=\"vazir\" color=\"#0099cc\">\n",
        "    قسمت اول\n",
        "</font>\n",
        "</h2>\n",
        "\n",
        "<p dir=rtl style=\"direction: rtl;text-align: right;line-height:200%;font-family:vazir;font-size:medium\">\n",
        "<font face=\"vazir\" size=3>\n",
        "    تعداد فاکتورهای باقی‌مانده چند عدد است؟ توجه داشته باشید که منظور تعداد فاکتورهای یکتاست. پاسخ خود را در متغیر <code>number_of_orders</code> ذخیره کنید.\n",
        "        \n",
        "</font>\n",
        "</p>"
      ]
    },
    {
      "cell_type": "code",
      "execution_count": 17,
      "metadata": {
        "id": "d54f4178"
      },
      "outputs": [
        {
          "data": {
            "text/plain": [
              "19213"
            ]
          },
          "execution_count": 17,
          "metadata": {},
          "output_type": "execute_result"
        }
      ],
      "source": [
        "number_of_orders = len(df.drop_duplicates(subset=[\"InvoiceNumber\"])[\"InvoiceNumber\"])\n",
        "number_of_orders"
      ]
    },
    {
      "attachments": {},
      "cell_type": "markdown",
      "metadata": {
        "id": "386781c4"
      },
      "source": [
        "\n",
        "<h2 align=right style=\"line-height:200%;font-family:vazir;color:#0099cc\">\n",
        "<font face=\"vazir\" color=\"#0099cc\">\n",
        "    قسمت دوم\n",
        "</font>\n",
        "</h2>\n",
        "\n",
        "<p dir=rtl style=\"direction: rtl;text-align: right;line-height:200%;font-family:vazir;font-size:medium\">\n",
        "<font face=\"vazir\" size=3>\n",
        "این داده‌ها در چه بازه‌ی زمانی‌ای جمع‌آوری شده‌اند؟ پاسخ خود را به‌صورت یک tuple در متغیر <code>window_period</code> ذخیره کنید که به‌ترتیب شامل کوچک‌ترین زمان و بزرگترین زمان باشد.\n",
        "    <br>\n",
        "    به عنوان مثال، اگر فرضاً کوچک‌ترین زمان، <code dir=ltr>2008-04-05 18:20:00</code> و بزرگ‌ترین زمان، <code dir=ltr>2010-11-19 20:40:00</code> باشد، آنگاه این متغیر به‌صورت زیر مقدار‌دهی می‌شود:\n",
        "</font>\n",
        "</p>\n",
        "\n",
        "```python\n",
        "window_period = ('2008-04-05 18:20:00', '2010-11-19 20:40:00')\n",
        "```"
      ]
    },
    {
      "cell_type": "code",
      "execution_count": 5,
      "metadata": {
        "id": "95f58e32"
      },
      "outputs": [
        {
          "data": {
            "text/plain": [
              "('2009-12-01 07:45:00', '2010-12-09 20:01:00')"
            ]
          },
          "execution_count": 5,
          "metadata": {},
          "output_type": "execute_result"
        }
      ],
      "source": [
        "window_period = tuple([df[\"InvoiceDate\"].min(), df[\"InvoiceDate\"].max()])\n",
        "window_period"
      ]
    },
    {
      "attachments": {},
      "cell_type": "markdown",
      "metadata": {},
      "source": [
        "<h2 align=right style=\"line-height:200%;font-family:vazir;color:#0099cc\">\n",
        "<font face=\"vazir\" color=\"#0099cc\">\n",
        "    قسمت سوم\n",
        "</font>\n",
        "</h2>\n",
        "\n",
        "<p dir=rtl style=\"direction: rtl;text-align: justify;line-height:200%;font-family:vazir;font-size:medium\">\n",
        "<font face=\"vazir\" size=3>\n",
        "با استفاده از نمودار میله‌ای، نشان دهید که در هر روز هفته (دوشنبه، سه‌شنبه و...) چند فاکتور یکتا صادر شده است.\n",
        "<br>\n",
        "برای انجام این کار، ابتدا باید روزی از هفته که معامله در آن انجام شده است را پیدا کنید، سپس محاسبه کنید که در هر روز هفته، چند فاکتور یکتا صادر شده است.\n",
        "<br>\n",
        "نمودار شما باید مشابه با تصویر زیر باشد:\n",
        "</font>\n",
        "</p>\n",
        "\n",
        "<p style=\"text-align:center; background: white\"><img src=\"fig1.png\"></p>\n",
        "\n",
        "<h3 align=right style=\"line-height:200%;font-family:vazir;color:#0099cc\">\n",
        "<font face=\"vazir\" color=\"#0099cc\">\n",
        "<b>ویژگی‌های نمودار</b>\n",
        "\n",
        "</font>\n",
        "</h3>\n",
        "\n",
        "<center>\n",
        "<div dir=rtl style=\"direction: rtl;line-height:200%;font-family:vazir;font-size:medium\">\n",
        "<font face=\"vazir\" size=3>\n",
        "\n",
        "| <b style=\"color:#0099cc\">ویژگی</b> | <b style=\"color:#0099cc\">مقدار</b> |\n",
        "| :---: | :---: |\n",
        "| اندازه‌ی شکل | ۱۵ در ۶ اینچ |\n",
        "| رنگ میله‌ها | <code>lime</code> |\n",
        "| رنگ عنوان محور افقی و عمودی | <code>lightseagreen</code> | \n",
        "| رنگ عنوان صفحه‌محور | <code>green</code> |\n",
        "| اندازه‌ی فونت عنوان صفحه‌محور، عنوان محورهای افقی و عمودی و اسم روزهای هفته | ۱۵ |\n",
        "| زاویه‌ی اسم روزهای هفته | ۰ | \n",
        "\n",
        "</font>\n",
        "</div>\n",
        "</center>"
      ]
    },
    {
      "cell_type": "code",
      "execution_count": 6,
      "id": "83459b94",
      "metadata": {},
      "outputs": [
        {
          "data": {
            "text/plain": [
              "day_name\n",
              "Friday       2615\n",
              "Monday       2986\n",
              "Saturday       30\n",
              "Sunday       2666\n",
              "Thursday     3976\n",
              "Tuesday      3514\n",
              "Wednesday    3426\n",
              "Name: InvoiceNumber, dtype: int64"
            ]
          },
          "execution_count": 6,
          "metadata": {},
          "output_type": "execute_result"
        }
      ],
      "source": [
        "#preparing Data\n",
        "new_df = df.copy()\n",
        "new_df.drop_duplicates(subset=[\"InvoiceNumber\"], inplace=True)\n",
        "new_df[\"day_name\"] = pd.to_datetime(new_df[\"InvoiceDate\"]).dt.day_name()\n",
        "group_by_day = new_df.groupby(\"day_name\")\n",
        "count_of_day_ser = group_by_day[\"InvoiceNumber\"].agg(\"count\")\n",
        "count_of_day_ser\n"
      ]
    },
    {
      "cell_type": "code",
      "execution_count": 13,
      "metadata": {
        "id": "54fadd06"
      },
      "outputs": [
        {
          "name": "stderr",
          "output_type": "stream",
          "text": [
            "C:\\Users\\Poumi008\\AppData\\Local\\Temp\\ipykernel_17392\\337229766.py:6: UserWarning: FixedFormatter should only be used together with FixedLocator\n",
            "  ax1.set_xticklabels(days, rotation = 0, size = 15)\n"
          ]
        },
        {
          "data": {
            "text/plain": [
              "Text(0.5, 1.0, 'Number of orders for different Days')"
            ]
          },
          "execution_count": 13,
          "metadata": {},
          "output_type": "execute_result"
        },
        {
          "data": {
            "image/png": "[encoded data removed]",
            "text/plain": [
              "<Figure size 1500x600 with 1 Axes>"
            ]
          },
          "metadata": {},
          "output_type": "display_data"
        }
      ],
      "source": [
        "fig1, ax1 = plt.subplots(figsize=(15,6))\n",
        "list1 = [\"Mon\", \"Tue\", \"Wed\", \"Thur\", \"Fri\", \"Sat\", \"Sun\"]\n",
        "list2 = [count_of_day_ser[\"Monday\"], count_of_day_ser[\"Tuesday\"], count_of_day_ser[\"Wednesday\"], count_of_day_ser[\"Thursday\"], count_of_day_ser[\"Friday\"], count_of_day_ser[\"Saturday\"], count_of_day_ser[\"Sunday\"]]\n",
        "days = (\"Mon\", \"Tue\", \"Wed\", \"Thur\", \"Fri\", \"Sat\", \"Sun\")\n",
        "ax1.bar(list1, list2, color = 'lime')\n",
        "ax1.set_xticklabels(days, rotation = 0, size = 15)\n",
        "ax1.set_xlabel(\"Day\", size = 15, color = \"lightseagreen\")\n",
        "ax1.set_ylabel(\"Number of Orders\", size = 15, color=\"lightseagreen\")\n",
        "ax1.set_title(\"Number of orders for different Days\", size=15, color=\"green\")"
      ]
    },
    {
      "attachments": {},
      "cell_type": "markdown",
      "metadata": {
        "id": "89f38873"
      },
      "source": [
        "<h2 align=right style=\"line-height:200%;font-family:vazir;color:#0099cc\">\n",
        "<font face=\"vazir\" color=\"#0099cc\">\n",
        "    قسمت چهارم\n",
        "</font>\n",
        "</h2>\n",
        "\n",
        "<p dir=rtl style=\"direction: rtl;text-align: justify;line-height:200%;font-family:vazir;font-size:medium\">\n",
        "<font face=\"vazir\" size=3>\n",
        "اکنون یک نمودار میله‌ای از مجموع فروش هر ماه از هر سال رسم کنید. توجه داشته باشید مجموع فروش هر ردیف از دیتافریم به کمک ضرب قیمت واحد آن (ستون <code>UnitPrice</code>) در تعداد سفارش آن محصول (ستون <code>Quantity</code>) به دست می‌آید.\n",
        "<br>\n",
        "نمودار شما باید مشابه با تصویر زیر باشد:\n",
        "</font>\n",
        "</p>\n",
        "\n",
        "<p style=\"text-align:center; background: white\"><img src=\"fig2.png\"></p>\n",
        "\n",
        "\n",
        "<h2 align=right style=\"line-height:200%;font-family:vazir;color:#0099cc\">\n",
        "<font face=\"vazir\" color=\"#0099cc\">\n",
        "ویژگی‌های نمودار\n",
        "</font>\n",
        "</h2>\n",
        "\n",
        "\n",
        "<center>\n",
        "<div dir=rtl style=\"direction: rtl;line-height:200%;font-family:vazir;font-size:medium\">\n",
        "<font face=\"vazir\" size=3>\n",
        "\n",
        "| <b style=\"color:#0099cc\">ویژگی</b> | <b style=\"color:#0099cc\">مقدار</b> |\n",
        "| :---: | :---: |\n",
        "| اندازه‌ی شکل | ۱۵ در ۶ اینچ |\n",
        "| رنگ میله‌ها | <code>darkkhaki</code> |\n",
        "| رنگ عنوان محور افقی و عمودی | <code>orange</code> | \n",
        "| رنگ عنوان صفحه‌محور | <code>cadetblue</code> |\n",
        "| اندازه‌ی فونت عنوان صفحه‌محور، عنوان محورهای افقی و عمودی | ۱۵ |\n",
        "| اندازه‌ی فونت اسم ماه‌ها | ۱۳ | \n",
        "| زاویه‌ی اسم ماه‌ها | ۴۵۰ | \n",
        "\n",
        "</font>\n",
        "</div>\n",
        "</center>"
      ]
    },
    {
      "cell_type": "code",
      "execution_count": 19,
      "id": "15a06c12",
      "metadata": {},
      "outputs": [
        {
          "data": {
            "text/plain": [
              "MY\n",
              "2009-12     683504.010\n",
              "2010-01     555802.672\n",
              "2010-02     504558.956\n",
              "2010-03     696978.471\n",
              "2010-04     591982.002\n",
              "2010-05     597833.380\n",
              "2010-06     636371.130\n",
              "2010-07     589736.170\n",
              "2010-08     602224.600\n",
              "2010-09     829013.951\n",
              "2010-10    1033112.010\n",
              "2010-11    1166460.022\n",
              "2010-12     310656.370\n",
              "Name: amount, dtype: float64"
            ]
          },
          "execution_count": 19,
          "metadata": {},
          "output_type": "execute_result"
        }
      ],
      "source": [
        "new_df2 = df.copy()\n",
        "new_df2[\"amount\"] = new_df2[\"Quantity\"] * new_df2[\"UnitPrice\"]\n",
        "new_df2[\"date\"] = pd.to_datetime(new_df2[\"InvoiceDate\"])\n",
        "new_df2[\"MY\"] = new_df2[\"date\"].dt.strftime(\"%Y-%m\")\n",
        "series = new_df2.groupby(\"MY\")[\"amount\"].agg(\"sum\")\n",
        "series"
      ]
    },
    {
      "cell_type": "code",
      "execution_count": 22,
      "metadata": {},
      "outputs": [
        {
          "name": "stderr",
          "output_type": "stream",
          "text": [
            "C:\\Users\\Poumi008\\AppData\\Local\\Temp\\ipykernel_17392\\3003283326.py:7: UserWarning: FixedFormatter should only be used together with FixedLocator\n",
            "  ax2.set_xticklabels(months, rotation=45, size=13)\n"
          ]
        },
        {
          "data": {
            "text/plain": [
              "[Text(0, 0, 'Dec_2009'),\n",
              " Text(1, 0, 'Jan_2010'),\n",
              " Text(2, 0, 'Feb_2010'),\n",
              " Text(3, 0, 'Mar_2010'),\n",
              " Text(4, 0, 'Apr_2010'),\n",
              " Text(5, 0, 'May_2010'),\n",
              " Text(6, 0, 'Jun_2010'),\n",
              " Text(7, 0, 'July_2010'),\n",
              " Text(8, 0, 'Aug_2010'),\n",
              " Text(9, 0, 'Sep_2010'),\n",
              " Text(10, 0, 'Oct_2010'),\n",
              " Text(11, 0, 'Nov_2010'),\n",
              " Text(12, 0, 'Dec_2010')]"
            ]
          },
          "execution_count": 22,
          "metadata": {},
          "output_type": "execute_result"
        },
        {
          "data": {
            "image/png": "[encoded data removed]",
            "text/plain": [
              "<Figure size 1500x600 with 1 Axes>"
            ]
          },
          "metadata": {},
          "output_type": "display_data"
        }
      ],
      "source": [
        "fig2, ax2 = plt.subplots(figsize=(15,6))\n",
        "months = (\"Dec_2009\", \"Jan_2010\", \"Feb_2010\", \"Mar_2010\", \"Apr_2010\", \"May_2010\", \"Jun_2010\", \"July_2010\", \"Aug_2010\", \"Sep_2010\", \"Oct_2010\", \"Nov_2010\", \"Dec_2010\")\n",
        "ax2.bar(series.index, series.values, color=\"darkkhaki\")\n",
        "ax2.set_title(\"Number of orders for different Months\", size = 15, color = \"cadetblue\")\n",
        "ax2.set_xlabel(\"Month\", size=15, color=\"orange\")\n",
        "ax2.set_ylabel(\"Sales amount\", size=15, color=\"orange\")\n",
        "ax2.set_xticklabels(months, rotation=45, size=13)"
      ]
    },
    {
      "attachments": {},
      "cell_type": "markdown",
      "metadata": {
        "id": "121d3f7d"
      },
      "source": [
        "<h2 align=right style=\"line-height:200%;font-family:vazir;color:#0099cc\">\n",
        "<font face=\"vazir\" color=\"#0099cc\">\n",
        "<b>سلول جواب‌ساز</b>\n",
        "</font>\n",
        "</h2>\n",
        "\n",
        "\n",
        "<p dir=rtl style=\"direction: rtl; text-align: justify; line-height:200%; font-family:vazir; font-size:medium\">\n",
        "<font face=\"vazir\" size=3>\n",
        "    برای ساخته‌شدن فایل <code>result.zip</code> سلول زیر را اجرا کنید. توجه داشته باشید که پیش از اجرای سلول زیر تغییرات اعمال شده در نت‌بوک را ذخیره کرده باشید (<code>ctrl+s</code>) تا در صورت نیاز به پشتیبانی امکان بررسی کد شما وجود داشته باشد.\n",
        "</font>\n",
        "</p>"
      ]
    },
    {
      "cell_type": "code",
      "execution_count": 23,
      "metadata": {
        "id": "tkcqzj4b6tv6"
      },
      "outputs": [
        {
          "name": "stdout",
          "output_type": "stream",
          "text": [
            "File Paths:\n",
            "['number_of_orders', 'window_period', 'fig1', 'fig2', 'final_project_2_exploration.ipynb']\n"
          ]
        }
      ],
      "source": [
        "import zipfile\n",
        "import joblib\n",
        "\n",
        "joblib.dump(number_of_orders,\"number_of_orders\")\n",
        "joblib.dump(window_period,\"window_period\")\n",
        "joblib.dump(fig1,\"fig1\")\n",
        "joblib.dump(fig2,\"fig2\")\n",
        "\n",
        "def compress(file_names):\n",
        "    print(\"File Paths:\")\n",
        "    print(file_names)\n",
        "    compression = zipfile.ZIP_DEFLATED\n",
        "    with zipfile.ZipFile(\"result.zip\", mode=\"w\") as zf:\n",
        "        for file_name in file_names:\n",
        "            zf.write('./' + file_name, file_name, compress_type=compression)\n",
        "\n",
        "file_names = [\"number_of_orders\", \"window_period\", \"fig1\", \"fig2\", \"final_project_2_exploration.ipynb\"]\n",
        "compress(file_names)"
      ]
    },
    {
      "cell_type": "code",
      "execution_count": null,
      "id": "f8fca3ed",
      "metadata": {},
      "outputs": [],
      "source": []
    }
  ],
  "metadata": {
    "colab": {
      "name": "exploration_answers.ipynb",
      "provenance": []
    },
    "kernelspec": {
      "display_name": "quera",
      "language": "python",
      "name": "python3"
    },
    "language_info": {
      "codemirror_mode": {
        "name": "ipython",
        "version": 3
      },
      "file_extension": ".py",
      "mimetype": "text/x-python",
      "name": "python",
      "nbconvert_exporter": "python",
      "pygments_lexer": "ipython3",
      "version": "3.12.1"
    },
    "vscode": {
      "interpreter": {
        "hash": "6a29b8f2e1e8b11f80c3820468461bcdbea6564508a235f61a46eeb59d48b308"
      }
    }
  },
  "nbformat": 4,
  "nbformat_minor": 5
}
