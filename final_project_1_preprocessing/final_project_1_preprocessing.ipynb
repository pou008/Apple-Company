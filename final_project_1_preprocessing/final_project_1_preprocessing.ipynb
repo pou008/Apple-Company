{
 "cells": [
  {
   "attachments": {},
   "cell_type": "markdown",
   "id": "7f592a97",
   "metadata": {
    "id": "dbd55073"
   },
   "source": [
    "<h1 align=center style=\"line-height:200%;font-family:vazir;color:#0099cc\">\n",
    "<font face=\"vazir\" color=\"#0099cc\">\n",
    "پیش‌پردازش\n",
    "</font>\n",
    "</h1>\n",
    "\n",
    "<p dir=rtl style=\"direction: rtl;text-align: justify;line-height:200%;font-family:vazir;font-size:medium\">\n",
    "<font face=\"vazir\" size=3>\n",
    "    در نخستین گام از پروژه‌ی نهایی یک سری مراحل پیش‌پردازش را بر روی داده‌ها اعمال خواهید کرد تا مجموعه‌داده‌ی باکیفیت‌تری را برای مراحل بعدی پروژه آماده کنید. علاوه بر این طبق همین مراحل به چند پرسش تحلیلی هم پاسخ خواهید داد.\n",
    "</font>\n",
    "</p>"
   ]
  },
  {
   "attachments": {},
   "cell_type": "markdown",
   "id": "3c0ee8dc",
   "metadata": {
    "id": "ff28bfde"
   },
   "source": [
    "   \n",
    "<h2 align=right style=\"line-height:200%;font-family:vazir;color:#0099cc\">\n",
    "<font face=\"vazir\" color=\"#0099cc\">\n",
    "کتابخانه‌ها\n",
    "</font>\n",
    "</h2>\n",
    "\n",
    "<p dir=rtl style=\"direction: rtl;text-align: right;line-height:200%;font-family:vazir;font-size:medium\">\n",
    "<font face=\"vazir\" size=3>\n",
    "       ابتدا کتابخانه‌های مورد نیاز خود را فرا بخوانید.\n",
    "</font>\n",
    "</p>"
   ]
  },
  {
   "cell_type": "code",
   "execution_count": 1,
   "id": "d171f8a8",
   "metadata": {
    "id": "4a1c31c4"
   },
   "outputs": [
    {
     "name": "stderr",
     "output_type": "stream",
     "text": [
      "C:\\Users\\Poumi008\\AppData\\Local\\Temp\\ipykernel_7848\\1662815981.py:2: DeprecationWarning: \n",
      "Pyarrow will become a required dependency of pandas in the next major release of pandas (pandas 3.0),\n",
      "(to allow more performant data types, such as the Arrow string type, and better interoperability with other libraries)\n",
      "but was not found to be installed on your system.\n",
      "If this would cause problems for you,\n",
      "please provide us feedback at https://github.com/pandas-dev/pandas/issues/54466\n",
      "        \n",
      "  import pandas as pd\n"
     ]
    }
   ],
   "source": [
    "import numpy as np\n",
    "import pandas as pd"
   ]
  },
  {
   "attachments": {},
   "cell_type": "markdown",
   "id": "5f967579",
   "metadata": {
    "id": "76c16791"
   },
   "source": [
    "\n",
    "<h2 align=right style=\"line-height:200%;font-family:vazir;color:#0099cc\">\n",
    "<font face=\"vazir\" color=\"#0099cc\">\n",
    "مجموعه‌داده\n",
    "</font>\n",
    "</h2>\n",
    "\n",
    "\n",
    "\n",
    "<p dir=rtl style=\"direction: rtl;text-align: justify;line-height:200%;font-family:vazir;font-size:medium\">\n",
    "<font face=\"vazir\" size=3>\n",
    "    داده‌های این پروژه به‌صورت یک فایل اکسل در فایلی به نام <code>sales.xlsx</code> در اختیار شما قرار گرفته و توضیحات ستون‌های مجموعه‌داده در جدول زیر آمده است. در ابتدا این داده‌ها را در قالب یک دیتافریم بخوانید.\n",
    "</font>\n",
    "</p>\n",
    "\n",
    "<center>\n",
    "<div dir=rtl style=\"direction: rtl;line-height:200%;font-family:vazir;font-size:medium\">\n",
    "<font face=\"vazir\" size=3>\n",
    "    \n",
    "|ستون|توضیحات|\n",
    "|:------:|:---:|\n",
    "|<code>InvoiceNumber</code>|\tیک شماره‌ی ۶ رقمی که به‌طور منحصر به فرد به هر فاکتور اختصاص یافته است. اگر ابتدای این شماره با حرف C شروع شود، به این معنی است که آن فاکتور لغو شده است.|\n",
    "|<code>ProductCode</code>|یک شماره‌ی ۵ رقمی که به‌طور منحصر به فرد به هر نوع محصول اختصاص یافته است.|\n",
    "|<code>ProductName</code>|نام محصول|\n",
    "|<code>Quantity</code>|تعداد سفارش از یک نوع محصول در فاکتور|\n",
    "|<code>InvoiceDate</code>|تاریخ ایجاد فاکتور|\n",
    "|<code>UnitPrice</code>|قیمت یک نوع محصول به ازای یک واحد از آن|\n",
    "|<code>CusotmerId</code>|یک شماره‌ی ۵ رقمی که به‌طور منحصر به فرد به هر مشتری اختصاص یافته‌ است.|\n",
    "|<code>Country</code>|نام کشور محل سکونت مشتری|\n",
    "\n",
    "</font>\n",
    "</div>\n",
    "</center>"
   ]
  },
  {
   "cell_type": "code",
   "execution_count": 2,
   "id": "dcb58d50",
   "metadata": {
    "id": "b0ad0cab",
    "outputId": "256eb757-521a-4029-a774-826f840578fc"
   },
   "outputs": [
    {
     "data": {
      "text/html": [
       "<div>\n",
       "<style scoped>\n",
       "    .dataframe tbody tr th:only-of-type {\n",
       "        vertical-align: middle;\n",
       "    }\n",
       "\n",
       "    .dataframe tbody tr th {\n",
       "        vertical-align: top;\n",
       "    }\n",
       "\n",
       "    .dataframe thead th {\n",
       "        text-align: right;\n",
       "    }\n",
       "</style>\n",
       "<table border=\"1\" class=\"dataframe\">\n",
       "  <thead>\n",
       "    <tr style=\"text-align: right;\">\n",
       "      <th></th>\n",
       "      <th>InvoiceNumber</th>\n",
       "      <th>ProductCode</th>\n",
       "      <th>ProductName</th>\n",
       "      <th>Quantity</th>\n",
       "      <th>InvoiceDate</th>\n",
       "      <th>UnitPrice</th>\n",
       "      <th>CustomerId</th>\n",
       "      <th>Country</th>\n",
       "    </tr>\n",
       "  </thead>\n",
       "  <tbody>\n",
       "    <tr>\n",
       "      <th>0</th>\n",
       "      <td>489434</td>\n",
       "      <td>85048</td>\n",
       "      <td>15CM CHRISTMAS GLASS BALL 20 LIGHTS</td>\n",
       "      <td>12</td>\n",
       "      <td>2009-12-01 07:45:00</td>\n",
       "      <td>6.95</td>\n",
       "      <td>13085.0</td>\n",
       "      <td>United Kingdom</td>\n",
       "    </tr>\n",
       "    <tr>\n",
       "      <th>1</th>\n",
       "      <td>489434</td>\n",
       "      <td>79323P</td>\n",
       "      <td>PINK CHERRY LIGHTS</td>\n",
       "      <td>12</td>\n",
       "      <td>2009-12-01 07:45:00</td>\n",
       "      <td>6.75</td>\n",
       "      <td>13085.0</td>\n",
       "      <td>United Kingdom</td>\n",
       "    </tr>\n",
       "    <tr>\n",
       "      <th>2</th>\n",
       "      <td>489434</td>\n",
       "      <td>79323W</td>\n",
       "      <td>WHITE CHERRY LIGHTS</td>\n",
       "      <td>12</td>\n",
       "      <td>2009-12-01 07:45:00</td>\n",
       "      <td>6.75</td>\n",
       "      <td>13085.0</td>\n",
       "      <td>United Kingdom</td>\n",
       "    </tr>\n",
       "    <tr>\n",
       "      <th>3</th>\n",
       "      <td>489434</td>\n",
       "      <td>22041</td>\n",
       "      <td>RECORD FRAME 7\" SINGLE SIZE</td>\n",
       "      <td>48</td>\n",
       "      <td>2009-12-01 07:45:00</td>\n",
       "      <td>2.10</td>\n",
       "      <td>13085.0</td>\n",
       "      <td>United Kingdom</td>\n",
       "    </tr>\n",
       "    <tr>\n",
       "      <th>4</th>\n",
       "      <td>489434</td>\n",
       "      <td>21232</td>\n",
       "      <td>STRAWBERRY CERAMIC TRINKET BOX</td>\n",
       "      <td>24</td>\n",
       "      <td>2009-12-01 07:45:00</td>\n",
       "      <td>1.25</td>\n",
       "      <td>13085.0</td>\n",
       "      <td>United Kingdom</td>\n",
       "    </tr>\n",
       "  </tbody>\n",
       "</table>\n",
       "</div>"
      ],
      "text/plain": [
       "  InvoiceNumber ProductCode                          ProductName  Quantity  \\\n",
       "0        489434       85048  15CM CHRISTMAS GLASS BALL 20 LIGHTS        12   \n",
       "1        489434      79323P                   PINK CHERRY LIGHTS        12   \n",
       "2        489434      79323W                  WHITE CHERRY LIGHTS        12   \n",
       "3        489434       22041         RECORD FRAME 7\" SINGLE SIZE         48   \n",
       "4        489434       21232       STRAWBERRY CERAMIC TRINKET BOX        24   \n",
       "\n",
       "          InvoiceDate  UnitPrice  CustomerId         Country  \n",
       "0 2009-12-01 07:45:00       6.95     13085.0  United Kingdom  \n",
       "1 2009-12-01 07:45:00       6.75     13085.0  United Kingdom  \n",
       "2 2009-12-01 07:45:00       6.75     13085.0  United Kingdom  \n",
       "3 2009-12-01 07:45:00       2.10     13085.0  United Kingdom  \n",
       "4 2009-12-01 07:45:00       1.25     13085.0  United Kingdom  "
      ]
     },
     "execution_count": 2,
     "metadata": {},
     "output_type": "execute_result"
    }
   ],
   "source": [
    "df = pd.read_excel(\"sales.xlsx\")\n",
    "df.head()"
   ]
  },
  {
   "attachments": {},
   "cell_type": "markdown",
   "id": "f55b5fa9",
   "metadata": {
    "id": "d98bc7ea"
   },
   "source": [
    "<h2 align=right style=\"line-height:200%;font-family:vazir;color:#0099cc\">\n",
    "<font face=\"vazir\" color=\"#0099cc\">\n",
    "قسمت اول    \n",
    "</font>\n",
    "</h2>\n",
    "\n",
    "<p dir=rtl style=\"direction: rtl;text-align: justify;line-height:200%;font-family:vazir;font-size:medium\">\n",
    "<font face=\"vazir\" size=3>    \n",
    "    ابتدا فاکتورهایی که شناسه مشتری (<code>CustomerId</code>) آن‌ها موجود نیست را حذف کنید.\n",
    "    این کار را بر روی یک کپی از دیتافریم به نام <code>df_no_missing_CustomerId</code> انجام دهید.\n",
    "    \n",
    "</font>\n",
    "</p>\n"
   ]
  },
  {
   "cell_type": "code",
   "execution_count": 3,
   "id": "a104e359",
   "metadata": {
    "id": "1269279d"
   },
   "outputs": [
    {
     "data": {
      "text/html": [
       "<div>\n",
       "<style scoped>\n",
       "    .dataframe tbody tr th:only-of-type {\n",
       "        vertical-align: middle;\n",
       "    }\n",
       "\n",
       "    .dataframe tbody tr th {\n",
       "        vertical-align: top;\n",
       "    }\n",
       "\n",
       "    .dataframe thead th {\n",
       "        text-align: right;\n",
       "    }\n",
       "</style>\n",
       "<table border=\"1\" class=\"dataframe\">\n",
       "  <thead>\n",
       "    <tr style=\"text-align: right;\">\n",
       "      <th></th>\n",
       "      <th>InvoiceNumber</th>\n",
       "      <th>ProductCode</th>\n",
       "      <th>ProductName</th>\n",
       "      <th>Quantity</th>\n",
       "      <th>InvoiceDate</th>\n",
       "      <th>UnitPrice</th>\n",
       "      <th>CustomerId</th>\n",
       "      <th>Country</th>\n",
       "    </tr>\n",
       "  </thead>\n",
       "  <tbody>\n",
       "    <tr>\n",
       "      <th>0</th>\n",
       "      <td>489434</td>\n",
       "      <td>85048</td>\n",
       "      <td>15CM CHRISTMAS GLASS BALL 20 LIGHTS</td>\n",
       "      <td>12</td>\n",
       "      <td>2009-12-01 07:45:00</td>\n",
       "      <td>6.95</td>\n",
       "      <td>13085.0</td>\n",
       "      <td>United Kingdom</td>\n",
       "    </tr>\n",
       "    <tr>\n",
       "      <th>1</th>\n",
       "      <td>489434</td>\n",
       "      <td>79323P</td>\n",
       "      <td>PINK CHERRY LIGHTS</td>\n",
       "      <td>12</td>\n",
       "      <td>2009-12-01 07:45:00</td>\n",
       "      <td>6.75</td>\n",
       "      <td>13085.0</td>\n",
       "      <td>United Kingdom</td>\n",
       "    </tr>\n",
       "    <tr>\n",
       "      <th>2</th>\n",
       "      <td>489434</td>\n",
       "      <td>79323W</td>\n",
       "      <td>WHITE CHERRY LIGHTS</td>\n",
       "      <td>12</td>\n",
       "      <td>2009-12-01 07:45:00</td>\n",
       "      <td>6.75</td>\n",
       "      <td>13085.0</td>\n",
       "      <td>United Kingdom</td>\n",
       "    </tr>\n",
       "    <tr>\n",
       "      <th>3</th>\n",
       "      <td>489434</td>\n",
       "      <td>22041</td>\n",
       "      <td>RECORD FRAME 7\" SINGLE SIZE</td>\n",
       "      <td>48</td>\n",
       "      <td>2009-12-01 07:45:00</td>\n",
       "      <td>2.10</td>\n",
       "      <td>13085.0</td>\n",
       "      <td>United Kingdom</td>\n",
       "    </tr>\n",
       "    <tr>\n",
       "      <th>4</th>\n",
       "      <td>489434</td>\n",
       "      <td>21232</td>\n",
       "      <td>STRAWBERRY CERAMIC TRINKET BOX</td>\n",
       "      <td>24</td>\n",
       "      <td>2009-12-01 07:45:00</td>\n",
       "      <td>1.25</td>\n",
       "      <td>13085.0</td>\n",
       "      <td>United Kingdom</td>\n",
       "    </tr>\n",
       "  </tbody>\n",
       "</table>\n",
       "</div>"
      ],
      "text/plain": [
       "  InvoiceNumber ProductCode                          ProductName  Quantity  \\\n",
       "0        489434       85048  15CM CHRISTMAS GLASS BALL 20 LIGHTS        12   \n",
       "1        489434      79323P                   PINK CHERRY LIGHTS        12   \n",
       "2        489434      79323W                  WHITE CHERRY LIGHTS        12   \n",
       "3        489434       22041         RECORD FRAME 7\" SINGLE SIZE         48   \n",
       "4        489434       21232       STRAWBERRY CERAMIC TRINKET BOX        24   \n",
       "\n",
       "          InvoiceDate  UnitPrice  CustomerId         Country  \n",
       "0 2009-12-01 07:45:00       6.95     13085.0  United Kingdom  \n",
       "1 2009-12-01 07:45:00       6.75     13085.0  United Kingdom  \n",
       "2 2009-12-01 07:45:00       6.75     13085.0  United Kingdom  \n",
       "3 2009-12-01 07:45:00       2.10     13085.0  United Kingdom  \n",
       "4 2009-12-01 07:45:00       1.25     13085.0  United Kingdom  "
      ]
     },
     "execution_count": 3,
     "metadata": {},
     "output_type": "execute_result"
    }
   ],
   "source": [
    "df_no_missing_CustomerId = df.copy()\n",
    "\n",
    "df_no_missing_CustomerId = df_no_missing_CustomerId.dropna(subset = [\"CustomerId\"], how = \"any\")\n",
    "\n",
    "df_no_missing_CustomerId.head()"
   ]
  },
  {
   "attachments": {},
   "cell_type": "markdown",
   "id": "6dfd6345",
   "metadata": {
    "id": "a63338c3"
   },
   "source": [
    "   \n",
    "<h2 align=right style=\"line-height:200%;font-family:vazir;color:#0099cc\">\n",
    "<font face=\"vazir\" color=\"#0099cc\">\n",
    "قسمت دوم    \n",
    "</font>\n",
    "</h2>\n",
    "\n",
    "<p dir=rtl style=\"direction: rtl;text-align: justify;line-height:200%;font-family:vazir;font-size:medium\">\n",
    "<font face=\"vazir\" size=3>    \n",
    "سپس از بین سطر‌هایی که تمامی مقادیر آن‌ها تکراری هستند، فقط یک سطر را نگه دارید. این کار را بر روی یک کپی از دیتافریم قبل با نام <code>df_no_duplicate</code> انجام دهید.\n",
    "</font>\n",
    "</p>\n"
   ]
  },
  {
   "cell_type": "code",
   "execution_count": 4,
   "id": "acc758e5",
   "metadata": {
    "id": "582951c6"
   },
   "outputs": [
    {
     "data": {
      "text/html": [
       "<div>\n",
       "<style scoped>\n",
       "    .dataframe tbody tr th:only-of-type {\n",
       "        vertical-align: middle;\n",
       "    }\n",
       "\n",
       "    .dataframe tbody tr th {\n",
       "        vertical-align: top;\n",
       "    }\n",
       "\n",
       "    .dataframe thead th {\n",
       "        text-align: right;\n",
       "    }\n",
       "</style>\n",
       "<table border=\"1\" class=\"dataframe\">\n",
       "  <thead>\n",
       "    <tr style=\"text-align: right;\">\n",
       "      <th></th>\n",
       "      <th>InvoiceNumber</th>\n",
       "      <th>ProductCode</th>\n",
       "      <th>ProductName</th>\n",
       "      <th>Quantity</th>\n",
       "      <th>InvoiceDate</th>\n",
       "      <th>UnitPrice</th>\n",
       "      <th>CustomerId</th>\n",
       "      <th>Country</th>\n",
       "    </tr>\n",
       "  </thead>\n",
       "  <tbody>\n",
       "    <tr>\n",
       "      <th>0</th>\n",
       "      <td>489434</td>\n",
       "      <td>85048</td>\n",
       "      <td>15CM CHRISTMAS GLASS BALL 20 LIGHTS</td>\n",
       "      <td>12</td>\n",
       "      <td>2009-12-01 07:45:00</td>\n",
       "      <td>6.95</td>\n",
       "      <td>13085.0</td>\n",
       "      <td>United Kingdom</td>\n",
       "    </tr>\n",
       "    <tr>\n",
       "      <th>1</th>\n",
       "      <td>489434</td>\n",
       "      <td>79323P</td>\n",
       "      <td>PINK CHERRY LIGHTS</td>\n",
       "      <td>12</td>\n",
       "      <td>2009-12-01 07:45:00</td>\n",
       "      <td>6.75</td>\n",
       "      <td>13085.0</td>\n",
       "      <td>United Kingdom</td>\n",
       "    </tr>\n",
       "    <tr>\n",
       "      <th>2</th>\n",
       "      <td>489434</td>\n",
       "      <td>79323W</td>\n",
       "      <td>WHITE CHERRY LIGHTS</td>\n",
       "      <td>12</td>\n",
       "      <td>2009-12-01 07:45:00</td>\n",
       "      <td>6.75</td>\n",
       "      <td>13085.0</td>\n",
       "      <td>United Kingdom</td>\n",
       "    </tr>\n",
       "    <tr>\n",
       "      <th>3</th>\n",
       "      <td>489434</td>\n",
       "      <td>22041</td>\n",
       "      <td>RECORD FRAME 7\" SINGLE SIZE</td>\n",
       "      <td>48</td>\n",
       "      <td>2009-12-01 07:45:00</td>\n",
       "      <td>2.10</td>\n",
       "      <td>13085.0</td>\n",
       "      <td>United Kingdom</td>\n",
       "    </tr>\n",
       "    <tr>\n",
       "      <th>4</th>\n",
       "      <td>489434</td>\n",
       "      <td>21232</td>\n",
       "      <td>STRAWBERRY CERAMIC TRINKET BOX</td>\n",
       "      <td>24</td>\n",
       "      <td>2009-12-01 07:45:00</td>\n",
       "      <td>1.25</td>\n",
       "      <td>13085.0</td>\n",
       "      <td>United Kingdom</td>\n",
       "    </tr>\n",
       "  </tbody>\n",
       "</table>\n",
       "</div>"
      ],
      "text/plain": [
       "  InvoiceNumber ProductCode                          ProductName  Quantity  \\\n",
       "0        489434       85048  15CM CHRISTMAS GLASS BALL 20 LIGHTS        12   \n",
       "1        489434      79323P                   PINK CHERRY LIGHTS        12   \n",
       "2        489434      79323W                  WHITE CHERRY LIGHTS        12   \n",
       "3        489434       22041         RECORD FRAME 7\" SINGLE SIZE         48   \n",
       "4        489434       21232       STRAWBERRY CERAMIC TRINKET BOX        24   \n",
       "\n",
       "          InvoiceDate  UnitPrice  CustomerId         Country  \n",
       "0 2009-12-01 07:45:00       6.95     13085.0  United Kingdom  \n",
       "1 2009-12-01 07:45:00       6.75     13085.0  United Kingdom  \n",
       "2 2009-12-01 07:45:00       6.75     13085.0  United Kingdom  \n",
       "3 2009-12-01 07:45:00       2.10     13085.0  United Kingdom  \n",
       "4 2009-12-01 07:45:00       1.25     13085.0  United Kingdom  "
      ]
     },
     "execution_count": 4,
     "metadata": {},
     "output_type": "execute_result"
    }
   ],
   "source": [
    "df_no_duplicate = df_no_missing_CustomerId.copy()\n",
    "\n",
    "df_no_duplicate = df_no_duplicate.drop_duplicates()\n",
    "\n",
    "df_no_duplicate.head()"
   ]
  },
  {
   "attachments": {},
   "cell_type": "markdown",
   "id": "76a0b25a",
   "metadata": {
    "id": "b6450112"
   },
   "source": [
    "<h2 align=right style=\"line-height:200%;font-family:vazir;color:#0099cc\">\n",
    "<font face=\"vazir\" color=\"#0099cc\">\n",
    "قسمت سوم    \n",
    "</font>\n",
    "</h2>\n",
    "\n",
    "<p dir=rtl style=\"direction: rtl;text-align: justify;line-height:200%;font-family:vazir;font-size:medium\">\n",
    "<font face=\"vazir\" size=3>        \n",
    "همچنین سطرهایی که قیمت (<code>UnitPrice</code>) آن‌ها صفر یا عددی منفی است را نیز از مجموعه‌داده حذف کنید. به‌عبارت دیگر تنها سطرهایی که قیمت‌شان مثبت است را نگه دارید. این کار را بر روی یک کپی از دیتافریم قبل با نام <code>df_no_missing_price</code> انجام دهید.\n",
    "</font>\n",
    "</p>\n"
   ]
  },
  {
   "cell_type": "code",
   "execution_count": 5,
   "id": "b2d944eb",
   "metadata": {
    "id": "97e5386d"
   },
   "outputs": [
    {
     "data": {
      "text/html": [
       "<div>\n",
       "<style scoped>\n",
       "    .dataframe tbody tr th:only-of-type {\n",
       "        vertical-align: middle;\n",
       "    }\n",
       "\n",
       "    .dataframe tbody tr th {\n",
       "        vertical-align: top;\n",
       "    }\n",
       "\n",
       "    .dataframe thead th {\n",
       "        text-align: right;\n",
       "    }\n",
       "</style>\n",
       "<table border=\"1\" class=\"dataframe\">\n",
       "  <thead>\n",
       "    <tr style=\"text-align: right;\">\n",
       "      <th></th>\n",
       "      <th>InvoiceNumber</th>\n",
       "      <th>ProductCode</th>\n",
       "      <th>ProductName</th>\n",
       "      <th>Quantity</th>\n",
       "      <th>InvoiceDate</th>\n",
       "      <th>UnitPrice</th>\n",
       "      <th>CustomerId</th>\n",
       "      <th>Country</th>\n",
       "    </tr>\n",
       "  </thead>\n",
       "  <tbody>\n",
       "    <tr>\n",
       "      <th>0</th>\n",
       "      <td>489434</td>\n",
       "      <td>85048</td>\n",
       "      <td>15CM CHRISTMAS GLASS BALL 20 LIGHTS</td>\n",
       "      <td>12</td>\n",
       "      <td>2009-12-01 07:45:00</td>\n",
       "      <td>6.95</td>\n",
       "      <td>13085.0</td>\n",
       "      <td>United Kingdom</td>\n",
       "    </tr>\n",
       "    <tr>\n",
       "      <th>1</th>\n",
       "      <td>489434</td>\n",
       "      <td>79323P</td>\n",
       "      <td>PINK CHERRY LIGHTS</td>\n",
       "      <td>12</td>\n",
       "      <td>2009-12-01 07:45:00</td>\n",
       "      <td>6.75</td>\n",
       "      <td>13085.0</td>\n",
       "      <td>United Kingdom</td>\n",
       "    </tr>\n",
       "    <tr>\n",
       "      <th>2</th>\n",
       "      <td>489434</td>\n",
       "      <td>79323W</td>\n",
       "      <td>WHITE CHERRY LIGHTS</td>\n",
       "      <td>12</td>\n",
       "      <td>2009-12-01 07:45:00</td>\n",
       "      <td>6.75</td>\n",
       "      <td>13085.0</td>\n",
       "      <td>United Kingdom</td>\n",
       "    </tr>\n",
       "    <tr>\n",
       "      <th>3</th>\n",
       "      <td>489434</td>\n",
       "      <td>22041</td>\n",
       "      <td>RECORD FRAME 7\" SINGLE SIZE</td>\n",
       "      <td>48</td>\n",
       "      <td>2009-12-01 07:45:00</td>\n",
       "      <td>2.10</td>\n",
       "      <td>13085.0</td>\n",
       "      <td>United Kingdom</td>\n",
       "    </tr>\n",
       "    <tr>\n",
       "      <th>4</th>\n",
       "      <td>489434</td>\n",
       "      <td>21232</td>\n",
       "      <td>STRAWBERRY CERAMIC TRINKET BOX</td>\n",
       "      <td>24</td>\n",
       "      <td>2009-12-01 07:45:00</td>\n",
       "      <td>1.25</td>\n",
       "      <td>13085.0</td>\n",
       "      <td>United Kingdom</td>\n",
       "    </tr>\n",
       "  </tbody>\n",
       "</table>\n",
       "</div>"
      ],
      "text/plain": [
       "  InvoiceNumber ProductCode                          ProductName  Quantity  \\\n",
       "0        489434       85048  15CM CHRISTMAS GLASS BALL 20 LIGHTS        12   \n",
       "1        489434      79323P                   PINK CHERRY LIGHTS        12   \n",
       "2        489434      79323W                  WHITE CHERRY LIGHTS        12   \n",
       "3        489434       22041         RECORD FRAME 7\" SINGLE SIZE         48   \n",
       "4        489434       21232       STRAWBERRY CERAMIC TRINKET BOX        24   \n",
       "\n",
       "          InvoiceDate  UnitPrice  CustomerId         Country  \n",
       "0 2009-12-01 07:45:00       6.95     13085.0  United Kingdom  \n",
       "1 2009-12-01 07:45:00       6.75     13085.0  United Kingdom  \n",
       "2 2009-12-01 07:45:00       6.75     13085.0  United Kingdom  \n",
       "3 2009-12-01 07:45:00       2.10     13085.0  United Kingdom  \n",
       "4 2009-12-01 07:45:00       1.25     13085.0  United Kingdom  "
      ]
     },
     "execution_count": 5,
     "metadata": {},
     "output_type": "execute_result"
    }
   ],
   "source": [
    "df_no_missing_price = df_no_duplicate.copy()\n",
    "\n",
    "df_no_missing_price[\"plus\"] = df_no_missing_price[\"UnitPrice\"].apply(lambda x: 1 if x > 0 else 0)\n",
    "bool_is_plus = df_no_missing_price[\"plus\"] > 0\n",
    "df_no_missing_price = df_no_missing_price[bool_is_plus]\n",
    "df_no_missing_price.drop(columns=[\"plus\"], inplace=True)\n",
    "df_no_missing_price.head()"
   ]
  },
  {
   "attachments": {},
   "cell_type": "markdown",
   "id": "6903a10f",
   "metadata": {
    "id": "8d09f90e"
   },
   "source": [
    "<h2 align=right style=\"line-height:200%;font-family:vazir;color:#0099cc\">\n",
    "<font face=\"vazir\" color=\"#0099cc\">\n",
    "قسمت چهارم\n",
    "</font>\n",
    "</h2>\n",
    "\n",
    "<p dir=rtl style=\"direction: rtl;text-align: justify;line-height:200%;font-family:vazir;font-size:medium\">\n",
    "<font face=\"vazir\" size=3>\n",
    "    اکنون طبق داده‌هایی که در مرحله‌ی قبل به دست آمدند (دیتافریم <code>df_no_missing_price</code>)، محاسبه کنید که چند درصد از کل سفارش‌ها لغو شده‌اند و عدد رُند شده‌ی آن را در متغیری به نام <code>percentage_cancelled_orders</code> ذخیره کنید. که چند درصد از کل سفارش‌ها، لغو شده‌اند.\n",
    "</font>\n",
    "</p>\n",
    "\n",
    "<p dir=rtl style=\"direction: rtl;text-align: justify;line-height:200%;font-family:vazir;font-size:medium\">\n",
    "<font face=\"vazir\" size=3>\n",
    "<span style=\"color:green\"><b>راهنمایی ۱:</b></span>\n",
    "چون ممکن است یک سفارش شامل بیش از یک محصول باشد، این احتمال وجود دارد که شناسه‌ی یک سفارش در چند ردیف تکرار شده باشد. برای محاسبه‌ی درصد سفارشات لغوشده، باید هر سفارش را تنها یک‌بار لحاظ کنید.\n",
    "<br>\n",
    "<span style=\"color:green\"><b>راهنمایی ۲:</b></span>\n",
    "در صورتی‌که مقدار ستون <code>InvoiceNumber</code> با حرف <code>C</code> شروع شده باشد به این معنی‌ست که آن سفارش لغو شده است.\n",
    "<br>\n",
    "<span style=\"color:green\"><b>راهنمایی ۳:</b></span>\n",
    "برای رُند کردن عدد از <code>round</code> استفاده کنید تا به‌عنوان مثال اگر عدد حاصل ۲۹/۸۷ درصد بود به عدد ۳۰ تبدیل شود.\n",
    "<br>\n",
    "\n",
    "</font>\n",
    "</p>"
   ]
  },
  {
   "cell_type": "code",
   "execution_count": 9,
   "id": "ddf9f6d6",
   "metadata": {
    "id": "d54f4178",
    "outputId": "fa029c4a-a313-4726-a4d3-33f15cc1b59f"
   },
   "outputs": [
    {
     "data": {
      "text/plain": [
       "19"
      ]
     },
     "execution_count": 9,
     "metadata": {},
     "output_type": "execute_result"
    }
   ],
   "source": [
    "no_duplicate = df_no_missing_price.drop_duplicates(subset= [\"InvoiceNumber\"])\n",
    "bool_is_canceled = no_duplicate[\"InvoiceNumber\"].apply(lambda x: True if ((str)(x)).__contains__(\"C\") else False)\n",
    "pure_percentage = (bool_is_canceled.sum()) / len(bool_is_canceled) * 100\n",
    "percentage_cancelled_orders = round(pure_percentage)\n",
    "percentage_cancelled_orders"
   ]
  },
  {
   "cell_type": "code",
   "execution_count": 19,
   "id": "31fb1dbe",
   "metadata": {},
   "outputs": [
    {
     "data": {
      "text/html": [
       "<div>\n",
       "<style scoped>\n",
       "    .dataframe tbody tr th:only-of-type {\n",
       "        vertical-align: middle;\n",
       "    }\n",
       "\n",
       "    .dataframe tbody tr th {\n",
       "        vertical-align: top;\n",
       "    }\n",
       "\n",
       "    .dataframe thead th {\n",
       "        text-align: right;\n",
       "    }\n",
       "</style>\n",
       "<table border=\"1\" class=\"dataframe\">\n",
       "  <thead>\n",
       "    <tr style=\"text-align: right;\">\n",
       "      <th></th>\n",
       "      <th>InvoiceNumber</th>\n",
       "      <th>ProductCode</th>\n",
       "      <th>ProductName</th>\n",
       "      <th>Quantity</th>\n",
       "      <th>InvoiceDate</th>\n",
       "      <th>UnitPrice</th>\n",
       "      <th>CustomerId</th>\n",
       "      <th>Country</th>\n",
       "    </tr>\n",
       "  </thead>\n",
       "  <tbody>\n",
       "    <tr>\n",
       "      <th>178</th>\n",
       "      <td>C489449</td>\n",
       "      <td>22087</td>\n",
       "      <td>PAPER BUNTING WHITE LACE</td>\n",
       "      <td>-12</td>\n",
       "      <td>2009-12-01 10:33:00</td>\n",
       "      <td>2.95</td>\n",
       "      <td>16321.0</td>\n",
       "      <td>Australia</td>\n",
       "    </tr>\n",
       "  </tbody>\n",
       "</table>\n",
       "</div>"
      ],
      "text/plain": [
       "    InvoiceNumber ProductCode               ProductName  Quantity  \\\n",
       "178       C489449       22087  PAPER BUNTING WHITE LACE       -12   \n",
       "\n",
       "            InvoiceDate  UnitPrice  CustomerId    Country  \n",
       "178 2009-12-01 10:33:00       2.95     16321.0  Australia  "
      ]
     },
     "execution_count": 19,
     "metadata": {},
     "output_type": "execute_result"
    }
   ],
   "source": [
    "no_duplicate.loc[178:179]"
   ]
  },
  {
   "cell_type": "code",
   "execution_count": 17,
   "id": "926ca72e",
   "metadata": {},
   "outputs": [
    {
     "data": {
      "text/html": [
       "<div>\n",
       "<style scoped>\n",
       "    .dataframe tbody tr th:only-of-type {\n",
       "        vertical-align: middle;\n",
       "    }\n",
       "\n",
       "    .dataframe tbody tr th {\n",
       "        vertical-align: top;\n",
       "    }\n",
       "\n",
       "    .dataframe thead th {\n",
       "        text-align: right;\n",
       "    }\n",
       "</style>\n",
       "<table border=\"1\" class=\"dataframe\">\n",
       "  <thead>\n",
       "    <tr style=\"text-align: right;\">\n",
       "      <th></th>\n",
       "      <th>InvoiceNumber</th>\n",
       "      <th>ProductCode</th>\n",
       "      <th>ProductName</th>\n",
       "      <th>Quantity</th>\n",
       "      <th>InvoiceDate</th>\n",
       "      <th>UnitPrice</th>\n",
       "      <th>CustomerId</th>\n",
       "      <th>Country</th>\n",
       "    </tr>\n",
       "  </thead>\n",
       "  <tbody>\n",
       "    <tr>\n",
       "      <th>178</th>\n",
       "      <td>C489449</td>\n",
       "      <td>22087</td>\n",
       "      <td>PAPER BUNTING WHITE LACE</td>\n",
       "      <td>-12</td>\n",
       "      <td>2009-12-01 10:33:00</td>\n",
       "      <td>2.95</td>\n",
       "      <td>16321.0</td>\n",
       "      <td>Australia</td>\n",
       "    </tr>\n",
       "  </tbody>\n",
       "</table>\n",
       "</div>"
      ],
      "text/plain": [
       "    InvoiceNumber ProductCode               ProductName  Quantity  \\\n",
       "178       C489449       22087  PAPER BUNTING WHITE LACE       -12   \n",
       "\n",
       "            InvoiceDate  UnitPrice  CustomerId    Country  \n",
       "178 2009-12-01 10:33:00       2.95     16321.0  Australia  "
      ]
     },
     "execution_count": 17,
     "metadata": {},
     "output_type": "execute_result"
    }
   ],
   "source": [
    "no_duplicate[no_duplicate[\"InvoiceNumber\"] == \"C489449\"]"
   ]
  },
  {
   "cell_type": "code",
   "execution_count": 23,
   "id": "9c19e72d",
   "metadata": {},
   "outputs": [
    {
     "data": {
      "text/plain": [
       "178    True\n",
       "Name: InvoiceNumber, dtype: bool"
      ]
     },
     "execution_count": 23,
     "metadata": {},
     "output_type": "execute_result"
    }
   ],
   "source": [
    "bool_is_canceled.loc[178:181]"
   ]
  },
  {
   "attachments": {},
   "cell_type": "markdown",
   "id": "a9a04d3c",
   "metadata": {
    "id": "386781c4"
   },
   "source": [
    "<h2 align=right style=\"line-height:200%;font-family:vazir;color:#0099cc\">\n",
    "<font face=\"vazir\" color=\"#0099cc\">\n",
    "قسمت پنچم</font>\n",
    "</h2>\n",
    "\n",
    "<p dir=rtl style=\"direction: rtl;text-align: justify;line-height:200%;font-family:vazir;font-size:medium\">\n",
    "<font face=\"vazir\" size=3>  \n",
    "در این قسمت باید به کمک دیتافریم <code>df_no_missing_price</code> پنج مشتری با بیشترین تعداد دفعات لغو سفارش را پیدا کرده و شناسه‌های آن‌ها را در قالب یک لیست (به‌ترتیب نزولی) در متغیر <code>top_cancelling_customers</code> ذخیره کنید. توجه داشته باشید که مقادیر ستون <code>CustomerId</code> از جنس عدد <code>float</code> هستند اما مقادیر لیست خروجی شما باید از جنس رشته (<code>str</code>) باشند.\n",
    "</font>\n",
    "</p>\n",
    "\n",
    "\n",
    "<p dir=rtl style=\"direction: rtl;text-align: justify;line-height:200%;font-family:vazir;font-size:medium\">\n",
    "<font face=\"vazir\" size=3>\n",
    "<span style=\"color:green\"><b>راهنمایی:</b></span>\n",
    "در این قسمت هم به احتمال تکراری بودن شناسه‌ی سفارش‌ها دقت کنید. برای هر مشتری باید تعداد سفارش‌های یکتای لغوشده را محاسبه کنید.\n",
    "</font>\n",
    "</p>"
   ]
  },
  {
   "cell_type": "code",
   "execution_count": 24,
   "id": "bf69c9b2",
   "metadata": {
    "id": "bf2501b4",
    "outputId": "36051d24-312b-4a56-fdc7-9022c51168d4"
   },
   "outputs": [],
   "source": [
    "cancelled_df = no_duplicate[bool_is_canceled]\n",
    "group_cancelled_customer = cancelled_df.groupby(\"CustomerId\")\n",
    "count_cancelling_ser = group_cancelled_customer[\"InvoiceNumber\"].agg(\"count\")\n",
    "count_cancelling_df = pd.DataFrame(count_cancelling_ser)\n",
    "count_cancelling_df.reset_index(inplace = True)\n",
    "count_cancelling_df[\"CustomerId\"] = count_cancelling_df[\"CustomerId\"].astype(\"str\")\n",
    "count_cancelling_df.sort_values(by= [\"InvoiceNumber\"], ascending= False, inplace= True)\n",
    "top_cancelling_customers = [x for x in count_cancelling_df[\"CustomerId\"].head(5)]"
   ]
  },
  {
   "cell_type": "code",
   "execution_count": 25,
   "id": "3a6aa411",
   "metadata": {},
   "outputs": [
    {
     "data": {
      "text/html": [
       "<div>\n",
       "<style scoped>\n",
       "    .dataframe tbody tr th:only-of-type {\n",
       "        vertical-align: middle;\n",
       "    }\n",
       "\n",
       "    .dataframe tbody tr th {\n",
       "        vertical-align: top;\n",
       "    }\n",
       "\n",
       "    .dataframe thead th {\n",
       "        text-align: right;\n",
       "    }\n",
       "</style>\n",
       "<table border=\"1\" class=\"dataframe\">\n",
       "  <thead>\n",
       "    <tr style=\"text-align: right;\">\n",
       "      <th></th>\n",
       "      <th>InvoiceNumber</th>\n",
       "      <th>ProductCode</th>\n",
       "      <th>ProductName</th>\n",
       "      <th>Quantity</th>\n",
       "      <th>InvoiceDate</th>\n",
       "      <th>UnitPrice</th>\n",
       "      <th>CustomerId</th>\n",
       "      <th>Country</th>\n",
       "    </tr>\n",
       "  </thead>\n",
       "  <tbody>\n",
       "    <tr>\n",
       "      <th>178</th>\n",
       "      <td>C489449</td>\n",
       "      <td>22087</td>\n",
       "      <td>PAPER BUNTING WHITE LACE</td>\n",
       "      <td>-12</td>\n",
       "      <td>2009-12-01 10:33:00</td>\n",
       "      <td>2.95</td>\n",
       "      <td>16321.0</td>\n",
       "      <td>Australia</td>\n",
       "    </tr>\n",
       "    <tr>\n",
       "      <th>196</th>\n",
       "      <td>C489459</td>\n",
       "      <td>90200A</td>\n",
       "      <td>PURPLE SWEETHEART BRACELET</td>\n",
       "      <td>-3</td>\n",
       "      <td>2009-12-01 10:44:00</td>\n",
       "      <td>4.25</td>\n",
       "      <td>17592.0</td>\n",
       "      <td>United Kingdom</td>\n",
       "    </tr>\n",
       "    <tr>\n",
       "      <th>285</th>\n",
       "      <td>C489476</td>\n",
       "      <td>22149</td>\n",
       "      <td>FELTCRAFT 6 FLOWER FRIENDS</td>\n",
       "      <td>-6</td>\n",
       "      <td>2009-12-01 10:55:00</td>\n",
       "      <td>2.10</td>\n",
       "      <td>13293.0</td>\n",
       "      <td>United Kingdom</td>\n",
       "    </tr>\n",
       "    <tr>\n",
       "      <th>316</th>\n",
       "      <td>C489503</td>\n",
       "      <td>21540</td>\n",
       "      <td>DAIRY MAID CERAMIC BUTTER DISH</td>\n",
       "      <td>-2</td>\n",
       "      <td>2009-12-01 11:04:00</td>\n",
       "      <td>4.25</td>\n",
       "      <td>16011.0</td>\n",
       "      <td>United Kingdom</td>\n",
       "    </tr>\n",
       "    <tr>\n",
       "      <th>318</th>\n",
       "      <td>C489504</td>\n",
       "      <td>85083</td>\n",
       "      <td>KISS REINDEER SCANDINAVIAN STOCKING</td>\n",
       "      <td>-6</td>\n",
       "      <td>2009-12-01 11:10:00</td>\n",
       "      <td>2.55</td>\n",
       "      <td>13916.0</td>\n",
       "      <td>United Kingdom</td>\n",
       "    </tr>\n",
       "    <tr>\n",
       "      <th>...</th>\n",
       "      <td>...</td>\n",
       "      <td>...</td>\n",
       "      <td>...</td>\n",
       "      <td>...</td>\n",
       "      <td>...</td>\n",
       "      <td>...</td>\n",
       "      <td>...</td>\n",
       "      <td>...</td>\n",
       "    </tr>\n",
       "    <tr>\n",
       "      <th>524691</th>\n",
       "      <td>C538121</td>\n",
       "      <td>22461</td>\n",
       "      <td>SAVOY ART DECO CLOCK</td>\n",
       "      <td>-1</td>\n",
       "      <td>2010-12-09 15:36:00</td>\n",
       "      <td>12.75</td>\n",
       "      <td>15535.0</td>\n",
       "      <td>United Kingdom</td>\n",
       "    </tr>\n",
       "    <tr>\n",
       "      <th>524692</th>\n",
       "      <td>C538122</td>\n",
       "      <td>22444</td>\n",
       "      <td>GROW YOUR OWN PLANT IN A CAN</td>\n",
       "      <td>-1</td>\n",
       "      <td>2010-12-09 15:38:00</td>\n",
       "      <td>1.25</td>\n",
       "      <td>14696.0</td>\n",
       "      <td>United Kingdom</td>\n",
       "    </tr>\n",
       "    <tr>\n",
       "      <th>524693</th>\n",
       "      <td>C538123</td>\n",
       "      <td>22331</td>\n",
       "      <td>WOODLAND PARTY BAG + STICKER SET</td>\n",
       "      <td>-1</td>\n",
       "      <td>2010-12-09 15:41:00</td>\n",
       "      <td>1.65</td>\n",
       "      <td>12605.0</td>\n",
       "      <td>Germany</td>\n",
       "    </tr>\n",
       "    <tr>\n",
       "      <th>524696</th>\n",
       "      <td>C538124</td>\n",
       "      <td>M</td>\n",
       "      <td>Manual</td>\n",
       "      <td>-4</td>\n",
       "      <td>2010-12-09 15:43:00</td>\n",
       "      <td>0.50</td>\n",
       "      <td>15329.0</td>\n",
       "      <td>United Kingdom</td>\n",
       "    </tr>\n",
       "    <tr>\n",
       "      <th>525282</th>\n",
       "      <td>C538164</td>\n",
       "      <td>35004B</td>\n",
       "      <td>SET OF 3 BLACK FLYING DUCKS</td>\n",
       "      <td>-1</td>\n",
       "      <td>2010-12-09 17:32:00</td>\n",
       "      <td>1.95</td>\n",
       "      <td>14031.0</td>\n",
       "      <td>United Kingdom</td>\n",
       "    </tr>\n",
       "  </tbody>\n",
       "</table>\n",
       "<p>4372 rows × 8 columns</p>\n",
       "</div>"
      ],
      "text/plain": [
       "       InvoiceNumber ProductCode                          ProductName  \\\n",
       "178          C489449       22087             PAPER BUNTING WHITE LACE   \n",
       "196          C489459      90200A           PURPLE SWEETHEART BRACELET   \n",
       "285          C489476       22149           FELTCRAFT 6 FLOWER FRIENDS   \n",
       "316          C489503       21540       DAIRY MAID CERAMIC BUTTER DISH   \n",
       "318          C489504       85083  KISS REINDEER SCANDINAVIAN STOCKING   \n",
       "...              ...         ...                                  ...   \n",
       "524691       C538121       22461                 SAVOY ART DECO CLOCK   \n",
       "524692       C538122       22444        GROW YOUR OWN PLANT IN A CAN    \n",
       "524693       C538123       22331     WOODLAND PARTY BAG + STICKER SET   \n",
       "524696       C538124           M                               Manual   \n",
       "525282       C538164      35004B          SET OF 3 BLACK FLYING DUCKS   \n",
       "\n",
       "        Quantity         InvoiceDate  UnitPrice  CustomerId         Country  \n",
       "178          -12 2009-12-01 10:33:00       2.95     16321.0       Australia  \n",
       "196           -3 2009-12-01 10:44:00       4.25     17592.0  United Kingdom  \n",
       "285           -6 2009-12-01 10:55:00       2.10     13293.0  United Kingdom  \n",
       "316           -2 2009-12-01 11:04:00       4.25     16011.0  United Kingdom  \n",
       "318           -6 2009-12-01 11:10:00       2.55     13916.0  United Kingdom  \n",
       "...          ...                 ...        ...         ...             ...  \n",
       "524691        -1 2010-12-09 15:36:00      12.75     15535.0  United Kingdom  \n",
       "524692        -1 2010-12-09 15:38:00       1.25     14696.0  United Kingdom  \n",
       "524693        -1 2010-12-09 15:41:00       1.65     12605.0         Germany  \n",
       "524696        -4 2010-12-09 15:43:00       0.50     15329.0  United Kingdom  \n",
       "525282        -1 2010-12-09 17:32:00       1.95     14031.0  United Kingdom  \n",
       "\n",
       "[4372 rows x 8 columns]"
      ]
     },
     "execution_count": 25,
     "metadata": {},
     "output_type": "execute_result"
    }
   ],
   "source": [
    "cancelled_df"
   ]
  },
  {
   "cell_type": "code",
   "execution_count": 30,
   "id": "43fccc98",
   "metadata": {},
   "outputs": [
    {
     "data": {
      "text/plain": [
       "True"
      ]
     },
     "execution_count": 30,
     "metadata": {},
     "output_type": "execute_result"
    }
   ],
   "source": [
    "bool = \"C489449\" in  cancelled_df[\"InvoiceNumber\"].values \n",
    "bool"
   ]
  },
  {
   "cell_type": "code",
   "execution_count": 31,
   "id": "ec420c7f",
   "metadata": {},
   "outputs": [
    {
     "data": {
      "text/plain": [
       "array(['C489449', 'C489459', 'C489476', ..., 'C538123', 'C538124',\n",
       "       'C538164'], dtype=object)"
      ]
     },
     "execution_count": 31,
     "metadata": {},
     "output_type": "execute_result"
    }
   ],
   "source": [
    "cancelled_df[\"InvoiceNumber\"].values"
   ]
  },
  {
   "attachments": {},
   "cell_type": "markdown",
   "id": "cd269684",
   "metadata": {
    "id": "aeb7766e"
   },
   "source": [
    "<h2 align=right style=\"line-height:200%;font-family:vazir;color:#0099cc\">\n",
    "<font face=\"vazir\" color=\"#0099cc\">\n",
    "قسمت ششم \n",
    "</font>\n",
    "</h2>\n",
    "\n",
    "<p dir=rtl style=\"direction: rtl;text-align: justify;line-height:200%;font-family:vazir;font-size:medium\">\n",
    "<font face=\"vazir\" size=3>  \n",
    "اکنون به‌عنوان آخرین مرحله‌ی پیش‌پردازش، ردیف‌های مربوط به سفارش‌های لغو شده را از دیتافریم حذف کنید. برای این کار از یک کپی از دیتافریم <code>df_no_missing_price</code> به نام <code>df_no_canceled_invoice</code> استفاده کنید و تغییرات خود را روی این دیتافریم اعمال کنید.\n",
    "</font>\n",
    "</p>\n"
   ]
  },
  {
   "cell_type": "code",
   "execution_count": 32,
   "id": "e4d2ac62",
   "metadata": {
    "id": "1888ca41"
   },
   "outputs": [
    {
     "name": "stderr",
     "output_type": "stream",
     "text": [
      "C:\\Users\\Poumi008\\AppData\\Local\\Temp\\ipykernel_1684\\2380226088.py:7: SettingWithCopyWarning: \n",
      "A value is trying to be set on a copy of a slice from a DataFrame\n",
      "\n",
      "See the caveats in the documentation: https://pandas.pydata.org/pandas-docs/stable/user_guide/indexing.html#returning-a-view-versus-a-copy\n",
      "  df_no_canceled_invoice.drop(columns = \"light\", inplace=True)\n"
     ]
    },
    {
     "data": {
      "text/html": [
       "<div>\n",
       "<style scoped>\n",
       "    .dataframe tbody tr th:only-of-type {\n",
       "        vertical-align: middle;\n",
       "    }\n",
       "\n",
       "    .dataframe tbody tr th {\n",
       "        vertical-align: top;\n",
       "    }\n",
       "\n",
       "    .dataframe thead th {\n",
       "        text-align: right;\n",
       "    }\n",
       "</style>\n",
       "<table border=\"1\" class=\"dataframe\">\n",
       "  <thead>\n",
       "    <tr style=\"text-align: right;\">\n",
       "      <th></th>\n",
       "      <th>InvoiceNumber</th>\n",
       "      <th>ProductCode</th>\n",
       "      <th>ProductName</th>\n",
       "      <th>Quantity</th>\n",
       "      <th>InvoiceDate</th>\n",
       "      <th>UnitPrice</th>\n",
       "      <th>CustomerId</th>\n",
       "      <th>Country</th>\n",
       "    </tr>\n",
       "  </thead>\n",
       "  <tbody>\n",
       "    <tr>\n",
       "      <th>0</th>\n",
       "      <td>489434</td>\n",
       "      <td>85048</td>\n",
       "      <td>15CM CHRISTMAS GLASS BALL 20 LIGHTS</td>\n",
       "      <td>12</td>\n",
       "      <td>2009-12-01 07:45:00</td>\n",
       "      <td>6.95</td>\n",
       "      <td>13085.0</td>\n",
       "      <td>United Kingdom</td>\n",
       "    </tr>\n",
       "    <tr>\n",
       "      <th>1</th>\n",
       "      <td>489434</td>\n",
       "      <td>79323P</td>\n",
       "      <td>PINK CHERRY LIGHTS</td>\n",
       "      <td>12</td>\n",
       "      <td>2009-12-01 07:45:00</td>\n",
       "      <td>6.75</td>\n",
       "      <td>13085.0</td>\n",
       "      <td>United Kingdom</td>\n",
       "    </tr>\n",
       "    <tr>\n",
       "      <th>2</th>\n",
       "      <td>489434</td>\n",
       "      <td>79323W</td>\n",
       "      <td>WHITE CHERRY LIGHTS</td>\n",
       "      <td>12</td>\n",
       "      <td>2009-12-01 07:45:00</td>\n",
       "      <td>6.75</td>\n",
       "      <td>13085.0</td>\n",
       "      <td>United Kingdom</td>\n",
       "    </tr>\n",
       "    <tr>\n",
       "      <th>3</th>\n",
       "      <td>489434</td>\n",
       "      <td>22041</td>\n",
       "      <td>RECORD FRAME 7\" SINGLE SIZE</td>\n",
       "      <td>48</td>\n",
       "      <td>2009-12-01 07:45:00</td>\n",
       "      <td>2.10</td>\n",
       "      <td>13085.0</td>\n",
       "      <td>United Kingdom</td>\n",
       "    </tr>\n",
       "    <tr>\n",
       "      <th>4</th>\n",
       "      <td>489434</td>\n",
       "      <td>21232</td>\n",
       "      <td>STRAWBERRY CERAMIC TRINKET BOX</td>\n",
       "      <td>24</td>\n",
       "      <td>2009-12-01 07:45:00</td>\n",
       "      <td>1.25</td>\n",
       "      <td>13085.0</td>\n",
       "      <td>United Kingdom</td>\n",
       "    </tr>\n",
       "  </tbody>\n",
       "</table>\n",
       "</div>"
      ],
      "text/plain": [
       "  InvoiceNumber ProductCode                          ProductName  Quantity  \\\n",
       "0        489434       85048  15CM CHRISTMAS GLASS BALL 20 LIGHTS        12   \n",
       "1        489434      79323P                   PINK CHERRY LIGHTS        12   \n",
       "2        489434      79323W                  WHITE CHERRY LIGHTS        12   \n",
       "3        489434       22041         RECORD FRAME 7\" SINGLE SIZE         48   \n",
       "4        489434       21232       STRAWBERRY CERAMIC TRINKET BOX        24   \n",
       "\n",
       "          InvoiceDate  UnitPrice  CustomerId         Country  \n",
       "0 2009-12-01 07:45:00       6.95     13085.0  United Kingdom  \n",
       "1 2009-12-01 07:45:00       6.75     13085.0  United Kingdom  \n",
       "2 2009-12-01 07:45:00       6.75     13085.0  United Kingdom  \n",
       "3 2009-12-01 07:45:00       2.10     13085.0  United Kingdom  \n",
       "4 2009-12-01 07:45:00       1.25     13085.0  United Kingdom  "
      ]
     },
     "execution_count": 32,
     "metadata": {},
     "output_type": "execute_result"
    }
   ],
   "source": [
    "import numpy as np\n",
    "df_no_canceled_invoice2 = df_no_missing_price.copy()\n",
    "\n",
    "df_no_canceled_invoice2[\"light\"] = df_no_canceled_invoice2[\"InvoiceNumber\"].apply(lambda x:1 if x in cancelled_df[\"InvoiceNumber\"].values else 0)\n",
    "bool_isnt_in = df_no_canceled_invoice2[\"light\"] == 0\n",
    "df_no_canceled_invoice = df_no_canceled_invoice2[bool_isnt_in]\n",
    "df_no_canceled_invoice.drop(columns = \"light\", inplace=True)\n",
    "df_no_canceled_invoice.head()"
   ]
  },
  {
   "attachments": {},
   "cell_type": "markdown",
   "id": "2274ae66",
   "metadata": {},
   "source": [
    "\n",
    "<p dir=rtl style=\"direction: rtl;text-align: justify;line-height:200%;font-family:vazir;font-size:medium\">\n",
    "<font face=\"vazir\" size=3>  \n",
    "اکنون\n",
    "دیتافریم پیش‌پردازش‌شده را در فایلی به نام <code>preprocessed_sales.csv</code> ذخیره خواهیم کرد تا در گام‌های بعدی پروژه از این مجموعه‌داده استفاده کنید.\n",
    "</font>\n",
    "</p>"
   ]
  },
  {
   "cell_type": "code",
   "execution_count": 33,
   "id": "a9fdde68",
   "metadata": {},
   "outputs": [],
   "source": [
    "df_no_canceled_invoice.to_csv(\"preprocessed_sales.csv\", index=False)"
   ]
  },
  {
   "attachments": {},
   "cell_type": "markdown",
   "id": "dbde39c0",
   "metadata": {},
   "source": [
    "<h2 align=right style=\"line-height:200%;font-family:vazir;color:#0099cc\">\n",
    "<font face=\"vazir\" color=\"#0099cc\">\n",
    "قسمت هفتم \n",
    "</font>\n",
    "</h2>\n",
    "\n",
    "<p dir=rtl style=\"direction: rtl;text-align: justify;line-height:200%;font-family:vazir;font-size:medium\">\n",
    "<font face=\"vazir\" size=3>  \n",
    "    حال شناسه‌ی سفارش‌های باقی‌مانده (حذف‌نشده) را با ساختار یک سری پانداز (<code>pd.Series</code>) در متغیر <code>remaining_invoices</code> قرار بدهید.\n",
    "    <br>\n",
    "    توجه کنید که تمام مقادیر موجود در متغیر <code>remaining_invoices</code> باید منحصر به فرد باشند. به عبارت بهتر، نباید در این متغیر هیچ شناسه‌ی تکراری‌ای وجود داشته باشد.\n",
    "</font>\n",
    "</p>"
   ]
  },
  {
   "cell_type": "code",
   "execution_count": null,
   "id": "4347d487",
   "metadata": {},
   "outputs": [
    {
     "name": "stdout",
     "output_type": "stream",
     "text": [
      "<class 'pandas.core.frame.DataFrame'>\n",
      "Index: 408877 entries, 0 to 525460\n",
      "Data columns (total 8 columns):\n",
      " #   Column         Non-Null Count   Dtype         \n",
      "---  ------         --------------   -----         \n",
      " 0   InvoiceNumber  408877 non-null  object        \n",
      " 1   ProductCode    408877 non-null  object        \n",
      " 2   ProductName    408877 non-null  object        \n",
      " 3   Quantity       408877 non-null  int64         \n",
      " 4   InvoiceDate    408877 non-null  datetime64[ns]\n",
      " 5   UnitPrice      408877 non-null  float64       \n",
      " 6   CustomerId     408877 non-null  float64       \n",
      " 7   Country        408877 non-null  object        \n",
      "dtypes: datetime64[ns](1), float64(2), int64(1), object(4)\n",
      "memory usage: 28.1+ MB\n"
     ]
    }
   ],
   "source": [
    "df_no_canceled_invoice.info()"
   ]
  },
  {
   "cell_type": "code",
   "execution_count": null,
   "id": "67fd0096",
   "metadata": {},
   "outputs": [
    {
     "data": {
      "text/plain": [
       "23498"
      ]
     },
     "execution_count": 28,
     "metadata": {},
     "output_type": "execute_result"
    }
   ],
   "source": [
    "group = df_no_canceled_invoice.groupby(\"InvoiceNumber\")\n",
    "len(group)"
   ]
  },
  {
   "cell_type": "code",
   "execution_count": 34,
   "id": "19331f38",
   "metadata": {},
   "outputs": [
    {
     "data": {
      "text/html": [
       "<div>\n",
       "<style scoped>\n",
       "    .dataframe tbody tr th:only-of-type {\n",
       "        vertical-align: middle;\n",
       "    }\n",
       "\n",
       "    .dataframe tbody tr th {\n",
       "        vertical-align: top;\n",
       "    }\n",
       "\n",
       "    .dataframe thead th {\n",
       "        text-align: right;\n",
       "    }\n",
       "</style>\n",
       "<table border=\"1\" class=\"dataframe\">\n",
       "  <thead>\n",
       "    <tr style=\"text-align: right;\">\n",
       "      <th></th>\n",
       "      <th>InvoiceNumber</th>\n",
       "      <th>ProductCode</th>\n",
       "      <th>ProductName</th>\n",
       "      <th>Quantity</th>\n",
       "      <th>InvoiceDate</th>\n",
       "      <th>UnitPrice</th>\n",
       "      <th>CustomerId</th>\n",
       "      <th>Country</th>\n",
       "    </tr>\n",
       "  </thead>\n",
       "  <tbody>\n",
       "  </tbody>\n",
       "</table>\n",
       "</div>"
      ],
      "text/plain": [
       "Empty DataFrame\n",
       "Columns: [InvoiceNumber, ProductCode, ProductName, Quantity, InvoiceDate, UnitPrice, CustomerId, Country]\n",
       "Index: []"
      ]
     },
     "execution_count": 34,
     "metadata": {},
     "output_type": "execute_result"
    }
   ],
   "source": [
    "df_no_canceled_invoice[df_no_canceled_invoice[\"InvoiceNumber\"] == \"C489449\"]"
   ]
  },
  {
   "cell_type": "code",
   "execution_count": 35,
   "id": "8b21f88f",
   "metadata": {
    "id": "bd1240ef"
   },
   "outputs": [],
   "source": [
    "no_canceled_unique = df_no_canceled_invoice.InvoiceNumber.unique()\n",
    "remaining_invoices = pd.Series(no_canceled_unique)"
   ]
  },
  {
   "cell_type": "code",
   "execution_count": 36,
   "id": "c53ad7ef",
   "metadata": {},
   "outputs": [
    {
     "data": {
      "text/plain": [
       "0        489434\n",
       "1        489435\n",
       "2        489436\n",
       "3        489437\n",
       "4        489438\n",
       "          ...  \n",
       "19208    538167\n",
       "19209    538168\n",
       "19210    538169\n",
       "19211    538170\n",
       "19212    538171\n",
       "Length: 19213, dtype: object"
      ]
     },
     "execution_count": 36,
     "metadata": {},
     "output_type": "execute_result"
    }
   ],
   "source": [
    "remaining_invoices"
   ]
  },
  {
   "attachments": {},
   "cell_type": "markdown",
   "id": "0bd7779a",
   "metadata": {},
   "source": [
    "<h2 align=right style=\"line-height:200%;font-family:vazir;color:#0099cc\">\n",
    "<font face=\"vazir\" color=\"#0099cc\">\n",
    "<b>سلول جواب‌ساز</b>\n",
    "</font>\n",
    "</h2>\n",
    "\n",
    "\n",
    "<p dir=rtl style=\"direction: rtl; text-align: justify; line-height:200%; font-family:vazir; font-size:medium\">\n",
    "<font face=\"vazir\" size=3>\n",
    "    برای ساخته‌شدن فایل <code>result.zip</code> سلول زیر را اجرا کنید. توجه داشته باشید که پیش از اجرای سلول زیر تغییرات اعمال شده در نت‌بوک را ذخیره کرده باشید (<code>ctrl+s</code>) تا در صورت نیاز به پشتیبانی امکان بررسی کد شما وجود داشته باشد.\n",
    "</font>\n",
    "</p>"
   ]
  },
  {
   "cell_type": "code",
   "execution_count": 37,
   "id": "7ec2f811",
   "metadata": {
    "id": "92401efc",
    "outputId": "e7c7656a-9622-4e13-ab45-b14e92ce4d03"
   },
   "outputs": [
    {
     "name": "stdout",
     "output_type": "stream",
     "text": [
      "File Paths:\n",
      "['df_no_canceled_invoice.csv', 'df_no_missing_CustomerId.csv', 'df_no_duplicate.csv', 'df_no_missing_price.csv', 'percentage_cancelled_orders', 'top_cancelling_customers', 'remaining_invoices.csv', 'final_project_1_preprocessing.ipynb']\n"
     ]
    }
   ],
   "source": [
    "import zipfile\n",
    "import joblib\n",
    "\n",
    "joblib.dump(percentage_cancelled_orders, \"percentage_cancelled_orders\")\n",
    "joblib.dump(top_cancelling_customers, \"top_cancelling_customers\")\n",
    "\n",
    "df_no_missing_CustomerId.head(1000).to_csv(\"df_no_missing_CustomerId.csv\", index=False)\n",
    "df_no_duplicate.head(1000).to_csv(\"df_no_duplicate.csv\", index=False)\n",
    "df_no_missing_price.head(1000).to_csv(\"df_no_missing_price.csv\", index=False)\n",
    "df_no_canceled_invoice.head(1000).to_csv(\"df_no_canceled_invoice.csv\", index=False)\n",
    "remaining_invoices.to_csv(\"remaining_invoices.csv\", index=False)\n",
    "\n",
    "def compress(file_names):\n",
    "    print(\"File Paths:\")\n",
    "    print(file_names)\n",
    "    compression = zipfile.ZIP_DEFLATED\n",
    "    with zipfile.ZipFile(\"result.zip\", mode=\"w\") as zf:\n",
    "        for file_name in file_names:\n",
    "            zf.write('./' + file_name, file_name, compress_type=compression)\n",
    "\n",
    "file_names = [\"df_no_canceled_invoice.csv\", \"df_no_missing_CustomerId.csv\", \n",
    "              \"df_no_duplicate.csv\", \"df_no_missing_price.csv\",\n",
    "              \"percentage_cancelled_orders\", \"top_cancelling_customers\",\n",
    "              \"remaining_invoices.csv\", \"final_project_1_preprocessing.ipynb\"]\n",
    "compress(file_names)"
   ]
  }
 ],
 "metadata": {
  "colab": {
   "name": "preprocessing_answers.ipynb",
   "provenance": []
  },
  "kernelspec": {
   "display_name": "quera",
   "language": "python",
   "name": "python3"
  },
  "language_info": {
   "codemirror_mode": {
    "name": "ipython",
    "version": 3
   },
   "file_extension": ".py",
   "mimetype": "text/x-python",
   "name": "python",
   "nbconvert_exporter": "python",
   "pygments_lexer": "ipython3",
   "version": "3.12.1"
  },
  "vscode": {
   "interpreter": {
    "hash": "6a29b8f2e1e8b11f80c3820468461bcdbea6564508a235f61a46eeb59d48b308"
   }
  }
 },
 "nbformat": 4,
 "nbformat_minor": 5
}
